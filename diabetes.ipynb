{
 "cells": [
  {
   "cell_type": "code",
   "execution_count": null,
   "id": "d6e8e633",
   "metadata": {},
   "outputs": [],
   "source": []
  },
  {
   "cell_type": "code",
   "execution_count": 44,
   "id": "2d919ec4",
   "metadata": {},
   "outputs": [],
   "source": [
    "import pandas as pd\n",
    "import torch\n",
    "from sklearn.preprocessing import MinMaxScaler\n",
    "from sklearn.model_selection import StratifiedKFold, cross_val_score, train_test_split\n",
    "from sklearn.base import BaseEstimator\n",
    "from sklearn.ensemble import AdaBoostClassifier\n",
    "import tqdm\n",
    "import matplotlib.pyplot as plt\n",
    "import timeit"
   ]
  },
  {
   "cell_type": "markdown",
   "id": "2ac9a9eb",
   "metadata": {},
   "source": [
    "Read the data"
   ]
  },
  {
   "cell_type": "code",
   "execution_count": 2,
   "id": "8ff31921",
   "metadata": {},
   "outputs": [],
   "source": [
    "data = pd.read_csv('diabetes.csv')"
   ]
  },
  {
   "cell_type": "markdown",
   "id": "9403c4c3",
   "metadata": {},
   "source": [
    "Show several lines"
   ]
  },
  {
   "cell_type": "code",
   "execution_count": 3,
   "id": "37eeb3ba",
   "metadata": {},
   "outputs": [
    {
     "data": {
      "text/html": [
       "<div>\n",
       "<style scoped>\n",
       "    .dataframe tbody tr th:only-of-type {\n",
       "        vertical-align: middle;\n",
       "    }\n",
       "\n",
       "    .dataframe tbody tr th {\n",
       "        vertical-align: top;\n",
       "    }\n",
       "\n",
       "    .dataframe thead th {\n",
       "        text-align: right;\n",
       "    }\n",
       "</style>\n",
       "<table border=\"1\" class=\"dataframe\">\n",
       "  <thead>\n",
       "    <tr style=\"text-align: right;\">\n",
       "      <th></th>\n",
       "      <th>Pregnancies</th>\n",
       "      <th>Glucose</th>\n",
       "      <th>BloodPressure</th>\n",
       "      <th>SkinThickness</th>\n",
       "      <th>Insulin</th>\n",
       "      <th>BMI</th>\n",
       "      <th>DiabetesPedigreeFunction</th>\n",
       "      <th>Age</th>\n",
       "      <th>Outcome</th>\n",
       "    </tr>\n",
       "  </thead>\n",
       "  <tbody>\n",
       "    <tr>\n",
       "      <th>0</th>\n",
       "      <td>6</td>\n",
       "      <td>148</td>\n",
       "      <td>72</td>\n",
       "      <td>35</td>\n",
       "      <td>0</td>\n",
       "      <td>33.6</td>\n",
       "      <td>0.627</td>\n",
       "      <td>50</td>\n",
       "      <td>1</td>\n",
       "    </tr>\n",
       "    <tr>\n",
       "      <th>1</th>\n",
       "      <td>1</td>\n",
       "      <td>85</td>\n",
       "      <td>66</td>\n",
       "      <td>29</td>\n",
       "      <td>0</td>\n",
       "      <td>26.6</td>\n",
       "      <td>0.351</td>\n",
       "      <td>31</td>\n",
       "      <td>0</td>\n",
       "    </tr>\n",
       "    <tr>\n",
       "      <th>2</th>\n",
       "      <td>8</td>\n",
       "      <td>183</td>\n",
       "      <td>64</td>\n",
       "      <td>0</td>\n",
       "      <td>0</td>\n",
       "      <td>23.3</td>\n",
       "      <td>0.672</td>\n",
       "      <td>32</td>\n",
       "      <td>1</td>\n",
       "    </tr>\n",
       "    <tr>\n",
       "      <th>3</th>\n",
       "      <td>1</td>\n",
       "      <td>89</td>\n",
       "      <td>66</td>\n",
       "      <td>23</td>\n",
       "      <td>94</td>\n",
       "      <td>28.1</td>\n",
       "      <td>0.167</td>\n",
       "      <td>21</td>\n",
       "      <td>0</td>\n",
       "    </tr>\n",
       "    <tr>\n",
       "      <th>4</th>\n",
       "      <td>0</td>\n",
       "      <td>137</td>\n",
       "      <td>40</td>\n",
       "      <td>35</td>\n",
       "      <td>168</td>\n",
       "      <td>43.1</td>\n",
       "      <td>2.288</td>\n",
       "      <td>33</td>\n",
       "      <td>1</td>\n",
       "    </tr>\n",
       "    <tr>\n",
       "      <th>5</th>\n",
       "      <td>5</td>\n",
       "      <td>116</td>\n",
       "      <td>74</td>\n",
       "      <td>0</td>\n",
       "      <td>0</td>\n",
       "      <td>25.6</td>\n",
       "      <td>0.201</td>\n",
       "      <td>30</td>\n",
       "      <td>0</td>\n",
       "    </tr>\n",
       "    <tr>\n",
       "      <th>6</th>\n",
       "      <td>3</td>\n",
       "      <td>78</td>\n",
       "      <td>50</td>\n",
       "      <td>32</td>\n",
       "      <td>88</td>\n",
       "      <td>31.0</td>\n",
       "      <td>0.248</td>\n",
       "      <td>26</td>\n",
       "      <td>1</td>\n",
       "    </tr>\n",
       "    <tr>\n",
       "      <th>7</th>\n",
       "      <td>10</td>\n",
       "      <td>115</td>\n",
       "      <td>0</td>\n",
       "      <td>0</td>\n",
       "      <td>0</td>\n",
       "      <td>35.3</td>\n",
       "      <td>0.134</td>\n",
       "      <td>29</td>\n",
       "      <td>0</td>\n",
       "    </tr>\n",
       "    <tr>\n",
       "      <th>8</th>\n",
       "      <td>2</td>\n",
       "      <td>197</td>\n",
       "      <td>70</td>\n",
       "      <td>45</td>\n",
       "      <td>543</td>\n",
       "      <td>30.5</td>\n",
       "      <td>0.158</td>\n",
       "      <td>53</td>\n",
       "      <td>1</td>\n",
       "    </tr>\n",
       "    <tr>\n",
       "      <th>9</th>\n",
       "      <td>8</td>\n",
       "      <td>125</td>\n",
       "      <td>96</td>\n",
       "      <td>0</td>\n",
       "      <td>0</td>\n",
       "      <td>0.0</td>\n",
       "      <td>0.232</td>\n",
       "      <td>54</td>\n",
       "      <td>1</td>\n",
       "    </tr>\n",
       "  </tbody>\n",
       "</table>\n",
       "</div>"
      ],
      "text/plain": [
       "   Pregnancies  Glucose  BloodPressure  SkinThickness  Insulin   BMI  \\\n",
       "0            6      148             72             35        0  33.6   \n",
       "1            1       85             66             29        0  26.6   \n",
       "2            8      183             64              0        0  23.3   \n",
       "3            1       89             66             23       94  28.1   \n",
       "4            0      137             40             35      168  43.1   \n",
       "5            5      116             74              0        0  25.6   \n",
       "6            3       78             50             32       88  31.0   \n",
       "7           10      115              0              0        0  35.3   \n",
       "8            2      197             70             45      543  30.5   \n",
       "9            8      125             96              0        0   0.0   \n",
       "\n",
       "   DiabetesPedigreeFunction  Age  Outcome  \n",
       "0                     0.627   50        1  \n",
       "1                     0.351   31        0  \n",
       "2                     0.672   32        1  \n",
       "3                     0.167   21        0  \n",
       "4                     2.288   33        1  \n",
       "5                     0.201   30        0  \n",
       "6                     0.248   26        1  \n",
       "7                     0.134   29        0  \n",
       "8                     0.158   53        1  \n",
       "9                     0.232   54        1  "
      ]
     },
     "execution_count": 3,
     "metadata": {},
     "output_type": "execute_result"
    }
   ],
   "source": [
    "data.iloc[:10, :]"
   ]
  },
  {
   "cell_type": "markdown",
   "id": "8369aac1",
   "metadata": {},
   "source": [
    "The dataset has no missing data, we don't need to fill NaNs, but we have to normalize them. I use MinMaxScaler (to be in 0-1)"
   ]
  },
  {
   "cell_type": "code",
   "execution_count": 4,
   "id": "70968f5c",
   "metadata": {},
   "outputs": [],
   "source": [
    "data = MinMaxScaler((-1, 1)).fit_transform(data)"
   ]
  },
  {
   "cell_type": "code",
   "execution_count": 5,
   "id": "11fbfa2c",
   "metadata": {},
   "outputs": [
    {
     "data": {
      "text/plain": [
       "array([[-0.29411765,  0.48743719,  0.18032787, ..., -0.53116994,\n",
       "        -0.03333333,  1.        ],\n",
       "       [-0.88235294, -0.14572864,  0.08196721, ..., -0.76686593,\n",
       "        -0.66666667, -1.        ],\n",
       "       [-0.05882353,  0.83919598,  0.04918033, ..., -0.49274125,\n",
       "        -0.63333333,  1.        ],\n",
       "       ...,\n",
       "       [-0.41176471,  0.2160804 ,  0.18032787, ..., -0.85738685,\n",
       "        -0.7       , -1.        ],\n",
       "       [-0.88235294,  0.26633166, -0.01639344, ..., -0.76857387,\n",
       "        -0.13333333,  1.        ],\n",
       "       [-0.88235294, -0.06532663,  0.14754098, ..., -0.79760888,\n",
       "        -0.93333333, -1.        ]])"
      ]
     },
     "execution_count": 5,
     "metadata": {},
     "output_type": "execute_result"
    }
   ],
   "source": [
    "data"
   ]
  },
  {
   "cell_type": "code",
   "execution_count": 6,
   "id": "79f6c623",
   "metadata": {},
   "outputs": [],
   "source": [
    "X, y = torch.from_numpy(data[:, :-1]), torch.from_numpy(data[:, -1])"
   ]
  },
  {
   "cell_type": "markdown",
   "id": "e4246e20",
   "metadata": {},
   "source": [
    "Metrics: 10-fold cross validation"
   ]
  },
  {
   "cell_type": "code",
   "execution_count": 7,
   "id": "57908b7d",
   "metadata": {},
   "outputs": [],
   "source": [
    "cv = StratifiedKFold(n_splits = 10, shuffle = True, random_state = 12345)"
   ]
  },
  {
   "cell_type": "markdown",
   "id": "dd286b4d",
   "metadata": {},
   "source": [
    "Our perceptron"
   ]
  },
  {
   "cell_type": "code",
   "execution_count": 34,
   "id": "79fc6332",
   "metadata": {},
   "outputs": [],
   "source": [
    "class Perceptron(BaseEstimator):\n",
    "    def __init__(self, eta = 0.001, max_iter = 100):\n",
    "        self.eta = eta\n",
    "        self.max_iter = max_iter\n",
    "    def fit(self, X, y):\n",
    "        self.n_features  = X.shape[1]\n",
    "        self.n_rows      = X.shape[0]\n",
    "        self.weights     = torch.zeros((self.n_features, ), dtype=X.dtype)\n",
    "        self.bias        = torch.tensor(0.0)\n",
    "        self.history     = []\n",
    "        self.best_score_ = 0.0\n",
    "        self.best_weights_ = torch.zeros((self.n_features, ), dtype=X.dtype)\n",
    "        #for i in tqdm.tqdm(range(self.max_iter)):\n",
    "        for i in range(self.max_iter):\n",
    "            for j in range(self.n_rows):\n",
    "                a = 1 if torch.dot(self.weights, X[j]) + self.bias >= 0 else -1\n",
    "                if y[j] * a < 0:\n",
    "                    update = y[j] * X[j]\n",
    "                    self.weights += update * self.eta\n",
    "                    self.bias += y[j] * self.eta\n",
    "            score = self.score(X, y)\n",
    "            #if self.best_score_ < score:\n",
    "            #    self.best_score_ = score\n",
    "            #    self.best_weights = self.weights + 0.0\n",
    "            self.history.append(score)\n",
    "\n",
    "    def predict(self, X):\n",
    "        yh = torch.zeros((X.shape[0], ))\n",
    "        for i in range(X.shape[0]):\n",
    "            yh[i] = 1 if torch.dot(self.weights, X[i]) + self.bias >= 0 else -1\n",
    "        return yh\n",
    "    def score(self, X, y):\n",
    "        yh = self.predict(X)\n",
    "        return (torch.sum(yh == y) / X.shape[0]).item()\n",
    "        \n",
    "        "
   ]
  },
  {
   "cell_type": "code",
   "execution_count": 35,
   "id": "666f9ffe",
   "metadata": {},
   "outputs": [],
   "source": [
    "p = Perceptron()\n",
    "p.fit(X, y)"
   ]
  },
  {
   "cell_type": "code",
   "execution_count": 10,
   "id": "cc63724e",
   "metadata": {},
   "outputs": [],
   "source": [
    "n = X.shape[0] * 4 // 5\n",
    "X_train, X_test = X[:n, :], X[n:, :]\n",
    "y_train, y_test = y[:n], y[n:]\n"
   ]
  },
  {
   "cell_type": "code",
   "execution_count": 11,
   "id": "a5f3a6a2",
   "metadata": {},
   "outputs": [
    {
     "name": "stderr",
     "output_type": "stream",
     "text": [
      "100%|█████████████████████████████████████████████████████████████████████████████████| 100/100 [00:01<00:00, 68.31it/s]\n"
     ]
    }
   ],
   "source": [
    "p.fit(X_train, y_train)"
   ]
  },
  {
   "cell_type": "code",
   "execution_count": 12,
   "id": "f76f51ac",
   "metadata": {},
   "outputs": [
    {
     "data": {
      "text/plain": [
       "0.7589576840400696"
      ]
     },
     "execution_count": 12,
     "metadata": {},
     "output_type": "execute_result"
    }
   ],
   "source": [
    "p.score(X_train, y_train)"
   ]
  },
  {
   "cell_type": "code",
   "execution_count": 13,
   "id": "99572b81",
   "metadata": {},
   "outputs": [
    {
     "data": {
      "text/plain": [
       "0.7727272510528564"
      ]
     },
     "execution_count": 13,
     "metadata": {},
     "output_type": "execute_result"
    }
   ],
   "source": [
    "p.score(X_test, y_test)"
   ]
  },
  {
   "cell_type": "code",
   "execution_count": 14,
   "id": "7cbac849",
   "metadata": {},
   "outputs": [
    {
     "name": "stderr",
     "output_type": "stream",
     "text": [
      "100%|█████████████████████████████████████████████████████████████████████████████████| 100/100 [00:01<00:00, 60.08it/s]\n",
      "100%|█████████████████████████████████████████████████████████████████████████████████| 100/100 [00:01<00:00, 62.82it/s]\n",
      "100%|█████████████████████████████████████████████████████████████████████████████████| 100/100 [00:01<00:00, 62.28it/s]\n",
      "100%|█████████████████████████████████████████████████████████████████████████████████| 100/100 [00:01<00:00, 59.87it/s]\n",
      "100%|█████████████████████████████████████████████████████████████████████████████████| 100/100 [00:01<00:00, 59.54it/s]\n",
      "100%|█████████████████████████████████████████████████████████████████████████████████| 100/100 [00:01<00:00, 61.52it/s]\n",
      "100%|█████████████████████████████████████████████████████████████████████████████████| 100/100 [00:01<00:00, 61.58it/s]\n",
      "100%|█████████████████████████████████████████████████████████████████████████████████| 100/100 [00:01<00:00, 62.04it/s]\n",
      "100%|█████████████████████████████████████████████████████████████████████████████████| 100/100 [00:01<00:00, 60.85it/s]\n",
      "100%|█████████████████████████████████████████████████████████████████████████████████| 100/100 [00:01<00:00, 62.34it/s]\n"
     ]
    }
   ],
   "source": [
    "score = cross_val_score(p, X, y, cv=cv)"
   ]
  },
  {
   "cell_type": "code",
   "execution_count": 15,
   "id": "7fa05b72",
   "metadata": {},
   "outputs": [
    {
     "data": {
      "text/plain": [
       "array([0.67532468, 0.49350649, 0.71428573, 0.58441556, 0.70129871,\n",
       "       0.81818181, 0.64935064, 0.70129871, 0.65789473, 0.47368422])"
      ]
     },
     "execution_count": 15,
     "metadata": {},
     "output_type": "execute_result"
    }
   ],
   "source": [
    "score"
   ]
  },
  {
   "cell_type": "code",
   "execution_count": 16,
   "id": "d1215c75",
   "metadata": {},
   "outputs": [
    {
     "data": {
      "text/plain": [
       "tensor(0.6469)"
      ]
     },
     "execution_count": 16,
     "metadata": {},
     "output_type": "execute_result"
    }
   ],
   "source": [
    "torch.mean(torch.Tensor(score))"
   ]
  },
  {
   "cell_type": "code",
   "execution_count": 17,
   "id": "006bc3be",
   "metadata": {},
   "outputs": [
    {
     "data": {
      "text/plain": [
       "[<matplotlib.lines.Line2D at 0x7f579acbac50>]"
      ]
     },
     "execution_count": 17,
     "metadata": {},
     "output_type": "execute_result"
    },
    {
     "data": {
      "image/png": "[encoded data removed]",
      "text/plain": [
       "<Figure size 640x480 with 1 Axes>"
      ]
     },
     "metadata": {},
     "output_type": "display_data"
    }
   ],
   "source": [
    "plt.plot(p.history)"
   ]
  },
  {
   "cell_type": "code",
   "execution_count": 19,
   "id": "5b55f4c7",
   "metadata": {},
   "outputs": [],
   "source": [
    "import sklearn.linear_model\n",
    "skPerceptron = sklearn.linear_model.Perceptron"
   ]
  },
  {
   "cell_type": "code",
   "execution_count": 20,
   "id": "cef304ce",
   "metadata": {},
   "outputs": [],
   "source": [
    "q = Perceptron()"
   ]
  },
  {
   "cell_type": "code",
   "execution_count": 21,
   "id": "b6182009",
   "metadata": {},
   "outputs": [
    {
     "name": "stderr",
     "output_type": "stream",
     "text": [
      "100%|█████████████████████████████████████████████████████████████████████████████████| 100/100 [00:01<00:00, 66.22it/s]\n"
     ]
    }
   ],
   "source": [
    "q.fit(X_train, y_train)"
   ]
  },
  {
   "cell_type": "code",
   "execution_count": 22,
   "id": "167c4226",
   "metadata": {},
   "outputs": [
    {
     "name": "stdout",
     "output_type": "stream",
     "text": [
      "0.7727272510528564\n"
     ]
    }
   ],
   "source": [
    "print(q.score(X_test, y_test))"
   ]
  },
  {
   "cell_type": "code",
   "execution_count": 23,
   "id": "64bc7cd2",
   "metadata": {},
   "outputs": [
    {
     "name": "stdout",
     "output_type": "stream",
     "text": [
      "0.7589576840400696\n"
     ]
    }
   ],
   "source": [
    "print(q.score(X_train, y_train))"
   ]
  },
  {
   "cell_type": "code",
   "execution_count": 24,
   "id": "df84dae0",
   "metadata": {},
   "outputs": [
    {
     "name": "stderr",
     "output_type": "stream",
     "text": [
      "100%|█████████████████████████████████████████████████████████████████████████████████| 100/100 [00:01<00:00, 60.85it/s]\n",
      "100%|█████████████████████████████████████████████████████████████████████████████████| 100/100 [00:01<00:00, 59.96it/s]\n",
      "100%|█████████████████████████████████████████████████████████████████████████████████| 100/100 [00:01<00:00, 62.82it/s]\n",
      "100%|█████████████████████████████████████████████████████████████████████████████████| 100/100 [00:01<00:00, 63.91it/s]\n",
      "100%|█████████████████████████████████████████████████████████████████████████████████| 100/100 [00:01<00:00, 63.55it/s]\n",
      "100%|█████████████████████████████████████████████████████████████████████████████████| 100/100 [00:01<00:00, 59.90it/s]\n",
      "100%|█████████████████████████████████████████████████████████████████████████████████| 100/100 [00:01<00:00, 60.30it/s]\n",
      "100%|█████████████████████████████████████████████████████████████████████████████████| 100/100 [00:01<00:00, 62.73it/s]\n",
      "100%|█████████████████████████████████████████████████████████████████████████████████| 100/100 [00:01<00:00, 61.51it/s]\n",
      "100%|█████████████████████████████████████████████████████████████████████████████████| 100/100 [00:01<00:00, 61.48it/s]\n"
     ]
    }
   ],
   "source": [
    "cmp_score = cross_val_score(q, X, y, cv=cv)"
   ]
  },
  {
   "cell_type": "code",
   "execution_count": 25,
   "id": "0c1bc9b1",
   "metadata": {},
   "outputs": [
    {
     "data": {
      "text/plain": [
       "tensor(0.6469, dtype=torch.float64)"
      ]
     },
     "execution_count": 25,
     "metadata": {},
     "output_type": "execute_result"
    }
   ],
   "source": [
    "torch.mean(torch.from_numpy(cmp_score))"
   ]
  },
  {
   "cell_type": "code",
   "execution_count": 31,
   "id": "9d174d07",
   "metadata": {},
   "outputs": [],
   "source": [
    "def experiment(eta, max_iter):\n",
    "    p = Perceptron(eta, max_iter)\n",
    "    q = skPerceptron(eta0 = eta, max_iter = max_iter, random_state = 1234)\n",
    "    t1 = timeit.timeit(lambda: p.fit(X_train, y_train), number=1)\n",
    "    t2 = timeit.timeit(lambda: q.fit(X_train, y_train), number=100) / 100.0\n",
    "    c1 = p.score(X_test, y_test)\n",
    "    c2 = q.score(X_test, y_test)\n",
    "    cv1 = torch.mean(torch.from_numpy(cross_val_score(p, X, y, cv = cv))).item()\n",
    "    cv2 = torch.mean(torch.from_numpy(cross_val_score(q, X, y, cv = cv))).item()\n",
    "    return [t1, t2, c1, c2, cv1, cv2]"
   ]
  },
  {
   "cell_type": "code",
   "execution_count": 38,
   "id": "f89b1d5a",
   "metadata": {
    "scrolled": true
   },
   "outputs": [
    {
     "name": "stdout",
     "output_type": "stream",
     "text": [
      "0.01 10\n",
      "0.01 20\n",
      "0.01 50\n",
      "0.01 100\n",
      "0.01 200\n",
      "0.01 500\n",
      "0.02 10\n",
      "0.02 20\n",
      "0.02 50\n",
      "0.02 100\n",
      "0.02 200\n",
      "0.02 500\n",
      "0.05 10\n",
      "0.05 20\n",
      "0.05 50\n",
      "0.05 100\n",
      "0.05 200\n",
      "0.05 500\n",
      "0.1 10\n"
     ]
    },
    {
     "name": "stderr",
     "output_type": "stream",
     "text": [
      "/home/mini/.local/lib/python3.10/site-packages/sklearn/linear_model/_stochastic_gradient.py:702: ConvergenceWarning: Maximum number of iteration reached before convergence. Consider increasing max_iter to improve the fit.\n",
      "  warnings.warn(\n",
      "/home/mini/.local/lib/python3.10/site-packages/sklearn/linear_model/_stochastic_gradient.py:702: ConvergenceWarning: Maximum number of iteration reached before convergence. Consider increasing max_iter to improve the fit.\n",
      "  warnings.warn(\n"
     ]
    },
    {
     "name": "stdout",
     "output_type": "stream",
     "text": [
      "0.1 20\n",
      "0.1 50\n",
      "0.1 100\n",
      "0.1 200\n",
      "0.1 500\n",
      "0.2 10\n"
     ]
    },
    {
     "name": "stderr",
     "output_type": "stream",
     "text": [
      "/home/mini/.local/lib/python3.10/site-packages/sklearn/linear_model/_stochastic_gradient.py:702: ConvergenceWarning: Maximum number of iteration reached before convergence. Consider increasing max_iter to improve the fit.\n",
      "  warnings.warn(\n",
      "/home/mini/.local/lib/python3.10/site-packages/sklearn/linear_model/_stochastic_gradient.py:702: ConvergenceWarning: Maximum number of iteration reached before convergence. Consider increasing max_iter to improve the fit.\n",
      "  warnings.warn(\n"
     ]
    },
    {
     "name": "stdout",
     "output_type": "stream",
     "text": [
      "0.2 20\n",
      "0.2 50\n",
      "0.2 100\n",
      "0.2 200\n",
      "0.2 500\n",
      "0.5 10\n"
     ]
    },
    {
     "name": "stderr",
     "output_type": "stream",
     "text": [
      "/home/mini/.local/lib/python3.10/site-packages/sklearn/linear_model/_stochastic_gradient.py:702: ConvergenceWarning: Maximum number of iteration reached before convergence. Consider increasing max_iter to improve the fit.\n",
      "  warnings.warn(\n",
      "/home/mini/.local/lib/python3.10/site-packages/sklearn/linear_model/_stochastic_gradient.py:702: ConvergenceWarning: Maximum number of iteration reached before convergence. Consider increasing max_iter to improve the fit.\n",
      "  warnings.warn(\n"
     ]
    },
    {
     "name": "stdout",
     "output_type": "stream",
     "text": [
      "0.5 20\n",
      "0.5 50\n",
      "0.5 100\n",
      "0.5 200\n",
      "0.5 500\n",
      "1 10\n"
     ]
    },
    {
     "name": "stderr",
     "output_type": "stream",
     "text": [
      "/home/mini/.local/lib/python3.10/site-packages/sklearn/linear_model/_stochastic_gradient.py:702: ConvergenceWarning: Maximum number of iteration reached before convergence. Consider increasing max_iter to improve the fit.\n",
      "  warnings.warn(\n",
      "/home/mini/.local/lib/python3.10/site-packages/sklearn/linear_model/_stochastic_gradient.py:702: ConvergenceWarning: Maximum number of iteration reached before convergence. Consider increasing max_iter to improve the fit.\n",
      "  warnings.warn(\n",
      "/home/mini/.local/lib/python3.10/site-packages/sklearn/linear_model/_stochastic_gradient.py:702: ConvergenceWarning: Maximum number of iteration reached before convergence. Consider increasing max_iter to improve the fit.\n",
      "  warnings.warn(\n"
     ]
    },
    {
     "name": "stdout",
     "output_type": "stream",
     "text": [
      "1 20\n",
      "1 50\n",
      "1 100\n",
      "1 200\n",
      "1 500\n"
     ]
    }
   ],
   "source": [
    "data = []\n",
    "for eta in (0.01, 0.02, 0.05, 0.1, 0.2, 0.5, 1):\n",
    "    for max_iter in (10, 20, 50, 100, 200, 500):\n",
    "        print(eta, max_iter)\n",
    "        r = [eta, max_iter]\n",
    "        ret = experiment(eta, max_iter)\n",
    "        r += ret\n",
    "        data.append(r)"
   ]
  },
  {
   "cell_type": "code",
   "execution_count": 39,
   "id": "8f0c1b12",
   "metadata": {},
   "outputs": [
    {
     "data": {
      "text/plain": [
       "[[0.01,\n",
       "  10,\n",
       "  0.1602353910002421,\n",
       "  0.0005555252799968002,\n",
       "  0.7272727489471436,\n",
       "  0.6558441558441559,\n",
       "  0.7018626153469085,\n",
       "  0.7043745727956254],\n",
       " [0.01,\n",
       "  20,\n",
       "  0.27644268900075986,\n",
       "  0.0005414376099997753,\n",
       "  0.7337662577629089,\n",
       "  0.6558441558441559,\n",
       "  0.6666097044944763,\n",
       "  0.7043745727956254],\n",
       " [0.01,\n",
       "  50,\n",
       "  0.7194095550003112,\n",
       "  0.0006432524199954059,\n",
       "  0.7532467246055603,\n",
       "  0.6558441558441559,\n",
       "  0.643010938167572,\n",
       "  0.7043745727956254],\n",
       " [0.01,\n",
       "  100,\n",
       "  1.470468845999676,\n",
       "  0.0005789631200059375,\n",
       "  0.7727272510528564,\n",
       "  0.6558441558441559,\n",
       "  0.6469241291284561,\n",
       "  0.7043745727956254],\n",
       " [0.01,\n",
       "  200,\n",
       "  2.8019917390001865,\n",
       "  0.0005400670600010926,\n",
       "  0.7142857313156128,\n",
       "  0.6558441558441559,\n",
       "  0.7083048582077026,\n",
       "  0.7043745727956254],\n",
       " [0.01,\n",
       "  500,\n",
       "  7.067464597999788,\n",
       "  0.0005509332199926575,\n",
       "  0.7402597665786743,\n",
       "  0.6558441558441559,\n",
       "  0.6418489336967468,\n",
       "  0.7043745727956254],\n",
       " [0.02,\n",
       "  10,\n",
       "  0.14316053000038664,\n",
       "  0.0005349226599992107,\n",
       "  0.7272727489471436,\n",
       "  0.6558441558441559,\n",
       "  0.7018626153469085,\n",
       "  0.7004784688995216],\n",
       " [0.02,\n",
       "  20,\n",
       "  0.28214308800033905,\n",
       "  0.000622682060002262,\n",
       "  0.7337662577629089,\n",
       "  0.6558441558441559,\n",
       "  0.6666097044944763,\n",
       "  0.7004784688995216],\n",
       " [0.02,\n",
       "  50,\n",
       "  0.7180627389998335,\n",
       "  0.0005699355500019009,\n",
       "  0.7532467246055603,\n",
       "  0.6558441558441559,\n",
       "  0.643010938167572,\n",
       "  0.7004784688995216],\n",
       " [0.02,\n",
       "  100,\n",
       "  1.4400035970002136,\n",
       "  0.0005378537199976563,\n",
       "  0.7727272510528564,\n",
       "  0.6558441558441559,\n",
       "  0.6469241291284561,\n",
       "  0.7004784688995216],\n",
       " [0.02,\n",
       "  200,\n",
       "  2.8933070060002137,\n",
       "  0.0005519610999999713,\n",
       "  0.7142857313156128,\n",
       "  0.6558441558441559,\n",
       "  0.7083048582077026,\n",
       "  0.7004784688995216],\n",
       " [0.02,\n",
       "  500,\n",
       "  7.161652924999544,\n",
       "  0.0005488091200004419,\n",
       "  0.7402597665786743,\n",
       "  0.6558441558441559,\n",
       "  0.6418489336967468,\n",
       "  0.7004784688995216],\n",
       " [0.05,\n",
       "  10,\n",
       "  0.14031499300017458,\n",
       "  0.000585688310002297,\n",
       "  0.7272727489471436,\n",
       "  0.7207792207792207,\n",
       "  0.7018626153469085,\n",
       "  0.6940362269309639],\n",
       " [0.05,\n",
       "  20,\n",
       "  0.28116733500064583,\n",
       "  0.0005641104000005725,\n",
       "  0.7337662577629089,\n",
       "  0.7207792207792207,\n",
       "  0.6666097044944763,\n",
       "  0.6940362269309639],\n",
       " [0.05,\n",
       "  50,\n",
       "  0.7361184250003134,\n",
       "  0.0005931764100023429,\n",
       "  0.7532467246055603,\n",
       "  0.7207792207792207,\n",
       "  0.643010938167572,\n",
       "  0.6940362269309639],\n",
       " [0.05,\n",
       "  100,\n",
       "  1.4490040219998264,\n",
       "  0.0005600432499977614,\n",
       "  0.7727272510528564,\n",
       "  0.7207792207792207,\n",
       "  0.6469241291284561,\n",
       "  0.6940362269309639],\n",
       " [0.05,\n",
       "  200,\n",
       "  2.897785479999584,\n",
       "  0.0005780467299973679,\n",
       "  0.7142857313156128,\n",
       "  0.7207792207792207,\n",
       "  0.7083048582077026,\n",
       "  0.6940362269309639],\n",
       " [0.05,\n",
       "  500,\n",
       "  7.241175877999922,\n",
       "  0.0005621192200032965,\n",
       "  0.7402597665786743,\n",
       "  0.7207792207792207,\n",
       "  0.6301606237888336,\n",
       "  0.6940362269309639],\n",
       " [0.1,\n",
       "  10,\n",
       "  0.14454694699998072,\n",
       "  0.0005854297599944403,\n",
       "  0.7272727489471436,\n",
       "  0.7207792207792207,\n",
       "  0.7018626153469085,\n",
       "  0.721308954203691],\n",
       " [0.1,\n",
       "  20,\n",
       "  0.31780803199944785,\n",
       "  0.0005789691700010735,\n",
       "  0.7337662577629089,\n",
       "  0.7207792207792207,\n",
       "  0.6666097044944763,\n",
       "  0.7174128503075872],\n",
       " [0.1,\n",
       "  50,\n",
       "  0.7078500860006898,\n",
       "  0.0005579600200053392,\n",
       "  0.7532467246055603,\n",
       "  0.7207792207792207,\n",
       "  0.643010938167572,\n",
       "  0.7174128503075872],\n",
       " [0.1,\n",
       "  100,\n",
       "  1.4102926079995086,\n",
       "  0.0005792699500034359,\n",
       "  0.7727272510528564,\n",
       "  0.7207792207792207,\n",
       "  0.6469241291284561,\n",
       "  0.7174128503075872],\n",
       " [0.1,\n",
       "  200,\n",
       "  2.889111243000116,\n",
       "  0.0005854817600084061,\n",
       "  0.7142857313156128,\n",
       "  0.7207792207792207,\n",
       "  0.7083048582077026,\n",
       "  0.7174128503075872],\n",
       " [0.1,\n",
       "  500,\n",
       "  7.126097305999792,\n",
       "  0.0005815267200068774,\n",
       "  0.7402597665786743,\n",
       "  0.7207792207792207,\n",
       "  0.6301606237888336,\n",
       "  0.7174128503075872],\n",
       " [0.2,\n",
       "  10,\n",
       "  0.142463719999796,\n",
       "  0.0005957917900013854,\n",
       "  0.7272727489471436,\n",
       "  0.7207792207792207,\n",
       "  0.7018626153469085,\n",
       "  0.721308954203691],\n",
       " [0.2,\n",
       "  20,\n",
       "  0.310943221999878,\n",
       "  0.0006487531199945806,\n",
       "  0.7337662577629089,\n",
       "  0.7207792207792207,\n",
       "  0.6666097044944763,\n",
       "  0.7174128503075872],\n",
       " [0.2,\n",
       "  50,\n",
       "  0.7602587699993819,\n",
       "  0.0005825484700017114,\n",
       "  0.7532467246055603,\n",
       "  0.7207792207792207,\n",
       "  0.643010938167572,\n",
       "  0.7174128503075872],\n",
       " [0.2,\n",
       "  100,\n",
       "  1.457238203000088,\n",
       "  0.0006287897299989708,\n",
       "  0.7727272510528564,\n",
       "  0.7207792207792207,\n",
       "  0.6469241291284561,\n",
       "  0.7174128503075872],\n",
       " [0.2,\n",
       "  200,\n",
       "  2.9362352489997647,\n",
       "  0.0005810079500042775,\n",
       "  0.7142857313156128,\n",
       "  0.7207792207792207,\n",
       "  0.7083048582077026,\n",
       "  0.7174128503075872],\n",
       " [0.2,\n",
       "  500,\n",
       "  7.169367462000082,\n",
       "  0.0006591854499947658,\n",
       "  0.7402597665786743,\n",
       "  0.7207792207792207,\n",
       "  0.6301606237888336,\n",
       "  0.7174128503075872],\n",
       " [0.5,\n",
       "  10,\n",
       "  0.1385989119999067,\n",
       "  0.0005716307399961806,\n",
       "  0.7272727489471436,\n",
       "  0.7207792207792207,\n",
       "  0.7018626153469085,\n",
       "  0.721308954203691],\n",
       " [0.5,\n",
       "  20,\n",
       "  0.2852459429996088,\n",
       "  0.0005576052800006437,\n",
       "  0.7337662577629089,\n",
       "  0.7207792207792207,\n",
       "  0.6666097044944763,\n",
       "  0.7174128503075872],\n",
       " [0.5,\n",
       "  50,\n",
       "  0.7418441340005302,\n",
       "  0.0005690892299935513,\n",
       "  0.7532467246055603,\n",
       "  0.7207792207792207,\n",
       "  0.643010938167572,\n",
       "  0.7174128503075872],\n",
       " [0.5,\n",
       "  100,\n",
       "  1.4614058409997597,\n",
       "  0.0005812627999966935,\n",
       "  0.7727272510528564,\n",
       "  0.7207792207792207,\n",
       "  0.6469241291284561,\n",
       "  0.7174128503075872],\n",
       " [0.5,\n",
       "  200,\n",
       "  2.899827993999679,\n",
       "  0.0005684993599970767,\n",
       "  0.7142857313156128,\n",
       "  0.7207792207792207,\n",
       "  0.7083048582077026,\n",
       "  0.7174128503075872],\n",
       " [0.5,\n",
       "  500,\n",
       "  7.210797692000597,\n",
       "  0.0005646465300014825,\n",
       "  0.7402597665786743,\n",
       "  0.7207792207792207,\n",
       "  0.6418489336967468,\n",
       "  0.7174128503075872],\n",
       " [1,\n",
       "  10,\n",
       "  0.14154309700006706,\n",
       "  0.0005504909100000077,\n",
       "  0.7272727489471436,\n",
       "  0.7207792207792207,\n",
       "  0.7018626153469085,\n",
       "  0.7239063568010937],\n",
       " [1,\n",
       "  20,\n",
       "  0.3167077709995283,\n",
       "  0.0006514797899944824,\n",
       "  0.7337662577629089,\n",
       "  0.7207792207792207,\n",
       "  0.6666097044944763,\n",
       "  0.7200102529049898],\n",
       " [1,\n",
       "  50,\n",
       "  0.7106211979998989,\n",
       "  0.0005582994399992458,\n",
       "  0.7532467246055603,\n",
       "  0.7207792207792207,\n",
       "  0.643010938167572,\n",
       "  0.7200102529049898],\n",
       " [1,\n",
       "  100,\n",
       "  1.4725493980004103,\n",
       "  0.0005798246799986373,\n",
       "  0.7727272510528564,\n",
       "  0.7207792207792207,\n",
       "  0.6469241291284561,\n",
       "  0.7200102529049898],\n",
       " [1,\n",
       "  200,\n",
       "  2.9423299580003004,\n",
       "  0.0005859659300040221,\n",
       "  0.7142857313156128,\n",
       "  0.7207792207792207,\n",
       "  0.7083048582077026,\n",
       "  0.7200102529049898],\n",
       " [1,\n",
       "  500,\n",
       "  7.547780993999368,\n",
       "  0.0005913731600048777,\n",
       "  0.7402597665786743,\n",
       "  0.7207792207792207,\n",
       "  0.6418489336967468,\n",
       "  0.7200102529049898]]"
      ]
     },
     "execution_count": 39,
     "metadata": {},
     "output_type": "execute_result"
    }
   ],
   "source": [
    "data"
   ]
  },
  {
   "cell_type": "code",
   "execution_count": 43,
   "id": "66723842",
   "metadata": {},
   "outputs": [
    {
     "name": "stdout",
     "output_type": "stream",
     "text": [
      "0.01|10|0.16|0.00|0.73|0.66|0.70|0.70\n",
      "0.01|20|0.28|0.00|0.73|0.66|0.67|0.70\n",
      "0.01|50|0.72|0.00|0.75|0.66|0.64|0.70\n",
      "0.01|100|1.47|0.00|0.77|0.66|0.65|0.70\n",
      "0.01|200|2.80|0.00|0.71|0.66|0.71|0.70\n",
      "0.01|500|7.07|0.00|0.74|0.66|0.64|0.70\n",
      "0.02|10|0.14|0.00|0.73|0.66|0.70|0.70\n",
      "0.02|20|0.28|0.00|0.73|0.66|0.67|0.70\n",
      "0.02|50|0.72|0.00|0.75|0.66|0.64|0.70\n",
      "0.02|100|1.44|0.00|0.77|0.66|0.65|0.70\n",
      "0.02|200|2.89|0.00|0.71|0.66|0.71|0.70\n",
      "0.02|500|7.16|0.00|0.74|0.66|0.64|0.70\n",
      "0.05|10|0.14|0.00|0.73|0.72|0.70|0.69\n",
      "0.05|20|0.28|0.00|0.73|0.72|0.67|0.69\n",
      "0.05|50|0.74|0.00|0.75|0.72|0.64|0.69\n",
      "0.05|100|1.45|0.00|0.77|0.72|0.65|0.69\n",
      "0.05|200|2.90|0.00|0.71|0.72|0.71|0.69\n",
      "0.05|500|7.24|0.00|0.74|0.72|0.63|0.69\n",
      "0.1|10|0.14|0.00|0.73|0.72|0.70|0.72\n",
      "0.1|20|0.32|0.00|0.73|0.72|0.67|0.72\n",
      "0.1|50|0.71|0.00|0.75|0.72|0.64|0.72\n",
      "0.1|100|1.41|0.00|0.77|0.72|0.65|0.72\n",
      "0.1|200|2.89|0.00|0.71|0.72|0.71|0.72\n",
      "0.1|500|7.13|0.00|0.74|0.72|0.63|0.72\n",
      "0.2|10|0.14|0.00|0.73|0.72|0.70|0.72\n",
      "0.2|20|0.31|0.00|0.73|0.72|0.67|0.72\n",
      "0.2|50|0.76|0.00|0.75|0.72|0.64|0.72\n",
      "0.2|100|1.46|0.00|0.77|0.72|0.65|0.72\n",
      "0.2|200|2.94|0.00|0.71|0.72|0.71|0.72\n",
      "0.2|500|7.17|0.00|0.74|0.72|0.63|0.72\n",
      "0.5|10|0.14|0.00|0.73|0.72|0.70|0.72\n",
      "0.5|20|0.29|0.00|0.73|0.72|0.67|0.72\n",
      "0.5|50|0.74|0.00|0.75|0.72|0.64|0.72\n",
      "0.5|100|1.46|0.00|0.77|0.72|0.65|0.72\n",
      "0.5|200|2.90|0.00|0.71|0.72|0.71|0.72\n",
      "0.5|500|7.21|0.00|0.74|0.72|0.64|0.72\n",
      "1|10|0.14|0.00|0.73|0.72|0.70|0.72\n",
      "1|20|0.32|0.00|0.73|0.72|0.67|0.72\n",
      "1|50|0.71|0.00|0.75|0.72|0.64|0.72\n",
      "1|100|1.47|0.00|0.77|0.72|0.65|0.72\n",
      "1|200|2.94|0.00|0.71|0.72|0.71|0.72\n",
      "1|500|7.55|0.00|0.74|0.72|0.64|0.72\n"
     ]
    }
   ],
   "source": [
    "for d in data:\n",
    "    d[2:] = [ \"%.02f\" % x for x in d[2:]]\n",
    "    print(\"|\".join(map(str, d)))\n",
    "    "
   ]
  },
  {
   "cell_type": "code",
   "execution_count": null,
   "id": "c831e2dd",
   "metadata": {},
   "outputs": [],
   "source": []
  }
 ],
 "metadata": {
  "kernelspec": {
   "display_name": "Python 3 (ipykernel)",
   "language": "python",
   "name": "python3"
  },
  "language_info": {
   "codemirror_mode": {
    "name": "ipython",
    "version": 3
   },
   "file_extension": ".py",
   "mimetype": "text/x-python",
   "name": "python",
   "nbconvert_exporter": "python",
   "pygments_lexer": "ipython3",
   "version": "3.10.12"
  }
 },
 "nbformat": 4,
 "nbformat_minor": 5
}
